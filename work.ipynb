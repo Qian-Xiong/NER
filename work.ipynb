{
 "cells": [
  {
   "cell_type": "code",
   "execution_count": 1,
   "id": "initial_id",
   "metadata": {
    "collapsed": true,
    "ExecuteTime": {
     "end_time": "2024-07-02T08:06:27.230407Z",
     "start_time": "2024-07-02T08:06:27.219663Z"
    }
   },
   "outputs": [
    {
     "name": "stdout",
     "output_type": "stream",
     "text": [
      "2024-07-02 16:06:27\n"
     ]
    }
   ],
   "source": [
    "from datetime import datetime\n",
    "\n",
    "# 获取当前时间\n",
    "current_datetime = datetime.now()\n",
    "\n",
    "# 将datetime对象格式化为字符串\n",
    "current_datetime_str = current_datetime.strftime(\"%Y-%m-%d %H:%M:%S\")\n",
    "\n",
    "# 打印格式化后的时间字符串\n",
    "print(current_datetime_str)\n"
   ]
  },
  {
   "cell_type": "code",
   "outputs": [
    {
     "data": {
      "text/plain": "str"
     },
     "execution_count": 2,
     "metadata": {},
     "output_type": "execute_result"
    }
   ],
   "source": [
    "type(current_datetime_str)"
   ],
   "metadata": {
    "collapsed": false,
    "ExecuteTime": {
     "end_time": "2024-07-02T08:06:53.634105Z",
     "start_time": "2024-07-02T08:06:53.629193Z"
    }
   },
   "id": "a97a6a5058bebabb",
   "execution_count": 2
  }
 ],
 "metadata": {
  "kernelspec": {
   "display_name": "Python 3",
   "language": "python",
   "name": "python3"
  },
  "language_info": {
   "codemirror_mode": {
    "name": "ipython",
    "version": 2
   },
   "file_extension": ".py",
   "mimetype": "text/x-python",
   "name": "python",
   "nbconvert_exporter": "python",
   "pygments_lexer": "ipython2",
   "version": "2.7.6"
  }
 },
 "nbformat": 4,
 "nbformat_minor": 5
}
