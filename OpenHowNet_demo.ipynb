{
 "cells": [
  {
   "cell_type": "markdown",
   "metadata": {},
   "source": [
    "# A simple demo for the OpenHowNet Python Package\n",
    "\n",
    "To begin with, make sure you have installed **Python 3.X**. \n",
    "\n",
    "Also, the [**anytree**](https://pypi.org/project/anytree/) is required to be installed, which is the only dependency for OpenHowNet.\n",
    "\n",
    "Next, you should follow the [instruction](https://github.com/thunlp/OpenHowNet#installation) to install **OpenHowNet** API. \n",
    "\n",
    "After that, you can import the module:"
   ]
  },
  {
   "cell_type": "code",
   "execution_count": 1,
   "metadata": {
    "ExecuteTime": {
     "end_time": "2024-07-11T13:35:04.707619Z",
     "start_time": "2024-07-11T13:35:04.617709Z"
    }
   },
   "outputs": [],
   "source": [
    "# Import the OpenHowNet module\n",
    "import OpenHowNet"
   ]
  },
  {
   "cell_type": "markdown",
   "metadata": {},
   "source": [
    "Then we can create a **HowNetDict** object:"
   ]
  },
  {
   "cell_type": "code",
   "execution_count": 2,
   "metadata": {
    "ExecuteTime": {
     "end_time": "2024-07-11T13:35:13.649743Z",
     "start_time": "2024-07-11T13:35:11.051478Z"
    }
   },
   "outputs": [
    {
     "name": "stdout",
     "output_type": "stream",
     "text": [
      "Initializing OpenHowNet succeeded!\n"
     ]
    }
   ],
   "source": [
    "# Initialize HowNetDict, you can initialize the similarity calculation module by setting the init_sim to True.\n",
    "hownet_dict = OpenHowNet.HowNetDict(init_sim=False)"
   ]
  },
  {
   "cell_type": "markdown",
   "metadata": {},
   "source": [
    "Now the preparation work is all done. Let's explore some important features of HowNetDict."
   ]
  },
  {
   "cell_type": "markdown",
   "metadata": {},
   "source": [
    "## Basic Usage of OpenHowNet\n",
    "\n",
    "### Get word annotations in HowNet\n",
    "\n",
    "By default, the api will search the target word in both English and Chinese annotations in HowNet, which will cause significant search overhead. Note that if the target word does not exist in HowNet annotation, this api will simply return an empty list."
   ]
  },
  {
   "cell_type": "code",
   "execution_count": 3,
   "metadata": {
    "ExecuteTime": {
     "end_time": "2024-07-11T13:35:20.221971Z",
     "start_time": "2024-07-11T13:35:20.217590Z"
    }
   },
   "outputs": [
    {
     "name": "stdout",
     "output_type": "stream",
     "text": [
      "The number of retrievals:  8\n",
      "An example of retrievals:  [No.244403|orchard apple tree|苹果, No.244400|iphone|苹果, No.244397|apple|苹果, No.244398|IPHONE|苹果, No.244401|apple|苹果, No.244396|apple|苹果, No.244402|malus pumila|苹果, No.244399|apple|苹果]\n"
     ]
    }
   ],
   "source": [
    "# Get the senses list annotated with \"苹果\".\n",
    "result_list = hownet_dict.get_sense(\"苹果\")\n",
    "print(\"The number of retrievals: \", len(result_list))\n",
    "print(\"An example of retrievals: \", result_list)"
   ]
  },
  {
   "cell_type": "markdown",
   "metadata": {},
   "source": [
    "In OpenHowNet package, the detailed information of senses and sememes in HowNet are wrapped into classes."
   ]
  },
  {
   "cell_type": "code",
   "execution_count": 4,
   "metadata": {
    "ExecuteTime": {
     "end_time": "2024-07-11T13:36:11.943489Z",
     "start_time": "2024-07-11T13:36:11.939717Z"
    }
   },
   "outputs": [
    {
     "name": "stdout",
     "output_type": "stream",
     "text": [
      "Sense example: No.244403|orchard apple tree|苹果\n",
      "Sense id:  000000244403\n",
      "English word in the sense:  orchard apple tree\n",
      "Chinese word in the sense:  苹果\n",
      "HowNet annotation of the sense:  {tree|树:{reproduce|生殖:PatientProduct={fruit|水果},agent={~}}}\n",
      "Sememe list of the sense:  [tree|树, fruit|水果, reproduce|生殖]\n"
     ]
    }
   ],
   "source": [
    "# Get the detailed information of the sense.\n",
    "sense_example = result_list[0]\n",
    "print(\"Sense example:\", sense_example)\n",
    "print(\"Sense id: \",sense_example.No)\n",
    "print(\"English word in the sense: \", sense_example.en_word)\n",
    "print(\"Chinese word in the sense: \", sense_example.zh_word)\n",
    "print(\"HowNet annotation of the sense: \", sense_example.Def)\n",
    "print(\"Sememe list of the sense: \", sense_example.get_sememe_list())"
   ]
  },
  {
   "cell_type": "code",
   "execution_count": 5,
   "metadata": {
    "ExecuteTime": {
     "end_time": "2024-07-11T13:36:31.993235Z",
     "start_time": "2024-07-11T13:36:31.990420Z"
    }
   },
   "outputs": [
    {
     "name": "stdout",
     "output_type": "stream",
     "text": [
      "Sememe example:  reproduce|生殖\n",
      "The English annotation of the sememe:  reproduce\n",
      "The Chinese annotation of the sememe:  生殖\n",
      "The frequency of occurrence of the sememe in HowNet:  593\n"
     ]
    }
   ],
   "source": [
    "# Get the detailed information of the sememe.\n",
    "sememe_example = sense_example.get_sememe_list().pop()\n",
    "print(\"Sememe example: \", sememe_example)\n",
    "print(\"The English annotation of the sememe: \", sememe_example.en)\n",
    "print(\"The Chinese annotation of the sememe: \", sememe_example.zh)\n",
    "print(\"The frequency of occurrence of the sememe in HowNet: \", sememe_example.freq)"
   ]
  },
  {
   "cell_type": "markdown",
   "metadata": {},
   "source": [
    "You can visualize the retrieved HowNet structured annotations (\"sememe tree\") of sense as follow :"
   ]
  },
  {
   "cell_type": "code",
   "execution_count": 6,
   "metadata": {
    "ExecuteTime": {
     "end_time": "2024-07-11T13:37:29.197639Z",
     "start_time": "2024-07-11T13:37:29.195145Z"
    }
   },
   "outputs": [
    {
     "name": "stdout",
     "output_type": "stream",
     "text": [
      "[sense]No.244403|orchard apple tree|苹果\n",
      "└── [None]tree|树\n",
      "    └── [agent]reproduce|生殖\n",
      "        └── [PatientProduct]fruit|水果\n"
     ]
    }
   ],
   "source": [
    "sense_example.visualize_sememe_tree()"
   ]
  },
  {
   "cell_type": "markdown",
   "metadata": {},
   "source": [
    "Besides, you can get the Sememe instance list by the English annotation or Chinese annotation. Similarily, you can set the language of the input or set the `strict` to `False` to fuzzy match the sememe."
   ]
  },
  {
   "cell_type": "code",
   "execution_count": 7,
   "metadata": {
    "ExecuteTime": {
     "end_time": "2024-07-11T13:37:43.356008Z",
     "start_time": "2024-07-11T13:37:43.351942Z"
    }
   },
   "outputs": [
    {
     "name": "stdout",
     "output_type": "stream",
     "text": [
      "Retrieved sememes:  [FormValue|形状值] [round|圆]\n",
      "Fuzzy match the sememes (retrieved 249 results):  [PropertyValue|特性值, FinenessValue|粗细值, AgeValue|年龄值, DistanceValue|距离值, PerformanceValue|性能值]\n",
      "There are 2540 sememes in HowNet in total.\n"
     ]
    }
   ],
   "source": [
    "sememe1 = hownet_dict.get_sememe('FormValue', language='en')\n",
    "sememe2 = hownet_dict.get_sememe('圆', language='zh')\n",
    "print(\"Retrieved sememes: \",sememe1, sememe2)\n",
    "\n",
    "sememe3 = hownet_dict.get_sememe('值', strict=False)\n",
    "print(\"Fuzzy match the sememes (retrieved {} results): \".format(len(sememe3)), sememe3[:5])\n",
    "\n",
    "sememe_all = hownet_dict.get_all_sememes()\n",
    "print(\"There are {} sememes in HowNet in total.\".format(len(sememe_all)))"
   ]
  },
  {
   "cell_type": "markdown",
   "metadata": {},
   "source": [
    "To boost the efficiency of the search process, you can specify the language of the target word as the following."
   ]
  },
  {
   "cell_type": "code",
   "execution_count": 8,
   "metadata": {
    "ExecuteTime": {
     "end_time": "2024-07-11T13:38:51.878856Z",
     "start_time": "2024-07-11T13:38:51.874004Z"
    }
   },
   "outputs": [
    {
     "name": "stdout",
     "output_type": "stream",
     "text": [
      "The number of mixed search results: 3\n",
      "The number of Chinese results: 3\n",
      "The number of English results: 2\n"
     ]
    }
   ],
   "source": [
    "print(\"The number of mixed search results:\",len(hownet_dict.get_sense(\"X\")))\n",
    "print(\"The number of Chinese results:\",len(hownet_dict.get_sense(\"X\",language=\"zh\")))\n",
    "print(\"The number of English results:\",len(hownet_dict.get_sense(\"X\",language=\"en\")))"
   ]
  },
  {
   "cell_type": "markdown",
   "metadata": {},
   "source": [
    "You can limit the POS of the target word by setting the `pos`.  Besides, you can set the `strict` to false to make a fuzzy match."
   ]
  },
  {
   "cell_type": "code",
   "execution_count": 9,
   "metadata": {
    "ExecuteTime": {
     "end_time": "2024-07-11T13:39:04.637158Z",
     "start_time": "2024-07-11T13:39:04.553643Z"
    }
   },
   "outputs": [
    {
     "name": "stdout",
     "output_type": "stream",
     "text": [
      "Fuzzy match: (The number of retrievals: 32)\n",
      "Retrivals: [No.244407|curry chicken with apple|苹果咖喱鸡, No.244419|apple and fish soup|苹果煲生鱼汤, No.244427|hard cider|苹果酒, No.244400|iphone|苹果, No.244408|apple orchard|苹果园, No.244420|MAC|苹果电脑, No.244428|apple jam|苹果酱, No.180902|French apple tart|法式苹果挞, No.244401|apple|苹果, No.244429|apple pie|苹果馅饼, No.244416|apple pie|苹果派, No.244409||苹果园西锦江之星, No.244421|mac|苹果电脑, No.244402|malus pumila|苹果, No.244396|apple|苹果, No.63141||北京双井苹果酒店, No.63229||北京四季苹果酒店, No.244403|orchard apple tree|苹果, No.244413|apple|苹果树, No.244423|apple green|苹果绿, No.244397|apple|苹果, No.244404|Apple|苹果公司, No.244414|apple tree|苹果树, No.244424|apple gateau|苹果蛋糕, No.244398|IPHONE|苹果, No.244405|apple jelly|苹果冻, No.244415|apple juice|苹果汁, No.244425|cider|苹果酒, No.244406|apple-scented|苹果味, No.244399|apple|苹果, No.244426|cyder|苹果酒, No.199378|baked apples|焗苹果]\n",
      "\n",
      "Fuzzy match and limit the POS to adj: (The number of retrievals: 2)\n",
      "Retrivals: [No.244423|apple green|苹果绿, No.244406|apple-scented|苹果味]\n"
     ]
    }
   ],
   "source": [
    "\n",
    "res = hownet_dict.get_sense(\"苹果\", strict=False)\n",
    "print(\"Fuzzy match: (The number of retrievals: {})\".format(len(res)))\n",
    "print(\"Retrivals: {}\\n\".format(res))\n",
    "res = hownet_dict.get_sense(\"苹果\",pos='adj', strict=False)\n",
    "print(\"Fuzzy match and limit the POS to adj: (The number of retrievals: {})\".format(len(res)))\n",
    "print(\"Retrivals: {}\".format(res))\n"
   ]
  },
  {
   "cell_type": "markdown",
   "metadata": {},
   "source": [
    "You can get all senses by using the follow API."
   ]
  },
  {
   "cell_type": "code",
   "execution_count": 10,
   "metadata": {
    "ExecuteTime": {
     "end_time": "2024-07-11T13:39:27.094063Z",
     "start_time": "2024-07-11T13:39:27.087881Z"
    }
   },
   "outputs": [
    {
     "name": "stdout",
     "output_type": "stream",
     "text": [
      "The number of all senses: 237974\n"
     ]
    }
   ],
   "source": [
    "all_senses = hownet_dict.get_all_senses()\n",
    "print(\"The number of all senses: {}\".format(len(all_senses)))"
   ]
  },
  {
   "cell_type": "markdown",
   "metadata": {},
   "source": [
    "Besides, you can also get all the English or Chinese words in HowNet annotations."
   ]
  },
  {
   "cell_type": "code",
   "execution_count": 11,
   "metadata": {},
   "outputs": [
    {
     "name": "stdout",
     "output_type": "stream",
     "text": [
      "Chinese words in HowNet:  ['', '空对地导弹', '吹求', '豆腐心', '依此类推', '火刑', '举事', '损坏', '脚闸', '城北区']\n",
      "English words in HowNet:  ['', 'cold noodles', 'martial arts film', 'beautiful look and graceful manner', 'monograph', 'solid evidence', 'spiced chicken liver and gizzard', 'jubilancy', 'turn the page', 'galactic']\n"
     ]
    }
   ],
   "source": [
    "zh_word_list = hownet_dict.get_zh_words()\n",
    "en_word_list = hownet_dict.get_en_words()\n",
    "print(\"Chinese words in HowNet: \",zh_word_list[:10])\n",
    "print(\"English words in HowNet: \",en_word_list[:10])"
   ]
  },
  {
   "cell_type": "markdown",
   "metadata": {},
   "source": [
    "### Get sememe trees of a certain word in HowNet¶\n",
    "\n",
    "You can get the sememes by certain word in a variety of forms of presentation. Detailed explanation of params will be displayed in our documentation.\n",
    "First, you can retrieve all the senses annotated with the certain word and their sememes."
   ]
  },
  {
   "cell_type": "code",
   "execution_count": 12,
   "metadata": {
    "ExecuteTime": {
     "end_time": "2024-07-11T13:41:20.931964Z",
     "start_time": "2024-07-11T13:41:20.923485Z"
    }
   },
   "outputs": [
    {
     "data": {
      "text/plain": "[{'sense': No.244396|apple|苹果,\n  'sememes': [SpeBrand|特定牌子, computer|电脑, bring|携带, able|能, PatternValue|样式值]},\n {'sense': No.244397|apple|苹果, 'sememes': [fruit|水果]},\n {'sense': No.244398|IPHONE|苹果,\n  'sememes': [able|能,\n   SpeBrand|特定牌子,\n   tool|用具,\n   bring|携带,\n   communicate|交流,\n   PatternValue|样式值]},\n {'sense': No.244399|apple|苹果,\n  'sememes': [able|能,\n   SpeBrand|特定牌子,\n   tool|用具,\n   bring|携带,\n   communicate|交流,\n   PatternValue|样式值]},\n {'sense': No.244400|iphone|苹果,\n  'sememes': [able|能,\n   SpeBrand|特定牌子,\n   tool|用具,\n   bring|携带,\n   communicate|交流,\n   PatternValue|样式值]},\n {'sense': No.244401|apple|苹果, 'sememes': [tree|树, fruit|水果, reproduce|生殖]},\n {'sense': No.244402|malus pumila|苹果,\n  'sememes': [tree|树, fruit|水果, reproduce|生殖]},\n {'sense': No.244403|orchard apple tree|苹果,\n  'sememes': [tree|树, fruit|水果, reproduce|生殖]}]"
     },
     "execution_count": 12,
     "metadata": {},
     "output_type": "execute_result"
    }
   ],
   "source": [
    "# Get the respective sememe list of the senses annotated with the word.\n",
    "# The word can be English or Chinese or *\n",
    "hownet_dict.get_sememes_by_word(word = '苹果', display='list', merge=False, expanded_layer=-1, K=None)"
   ]
  },
  {
   "cell_type": "markdown",
   "metadata": {},
   "source": [
    "The `display` can be set to \"tree\"/\"dict\"/\"list\"/\"visual\", and the function will return in different forms.\n",
    "1. When set to \"list\", the sememes will be returned in the form of list as shown above.\n",
    "2. When set to \"dict\", the function will return the sememe tree in the form of dict as shown below."
   ]
  },
  {
   "cell_type": "code",
   "execution_count": 13,
   "metadata": {
    "ExecuteTime": {
     "end_time": "2024-07-11T13:43:01.965765Z",
     "start_time": "2024-07-11T13:43:01.961418Z"
    }
   },
   "outputs": [
    {
     "data": {
      "text/plain": "{'sense': No.244396|apple|苹果,\n 'sememes': {'role': 'sense',\n  'name': No.244396|apple|苹果,\n  'children': [{'role': 'None',\n    'name': computer|电脑,\n    'children': [{'role': 'modifier',\n      'name': PatternValue|样式值,\n      'children': [{'role': 'CoEvent',\n        'name': able|能,\n        'children': [{'role': 'scope',\n          'name': bring|携带,\n          'children': [{'role': 'patient', 'name': '$'}]}]}]},\n     {'role': 'patient', 'name': SpeBrand|特定牌子}]}]}}"
     },
     "execution_count": 13,
     "metadata": {},
     "output_type": "execute_result"
    }
   ],
   "source": [
    "hownet_dict.get_sememes_by_word(word = '苹果', display='dict', merge=False, expanded_layer=-1, K=None)[0]"
   ]
  },
  {
   "cell_type": "markdown",
   "metadata": {},
   "source": [
    "3. When set to \"tree\", the function will return the senses and the root node of their respective sememe tree. "
   ]
  },
  {
   "cell_type": "code",
   "execution_count": null,
   "metadata": {},
   "outputs": [],
   "source": [
    "t = hownet_dict.get_sememes_by_word(word = '苹果', display='tree', merge=False, expanded_layer=-1, K=None)[0]\n",
    "print(t)\n",
    "print(\"The type of the root node is:\", type(t['sememes']))"
   ]
  },
  {
   "cell_type": "markdown",
   "metadata": {},
   "source": [
    "4. When set to \"visual\", the function will visualize the Top-K sememe trees. At this point, `K` can be set to control the num of the visualized sememe trees. "
   ]
  },
  {
   "cell_type": "code",
   "execution_count": null,
   "metadata": {},
   "outputs": [],
   "source": [
    "hownet_dict.get_sememes_by_word(word = '苹果', display='visual', merge=False, expanded_layer=-1, K=2)"
   ]
  },
  {
   "cell_type": "markdown",
   "metadata": {},
   "source": [
    "5. `merge` and `expanded_layer` only work when `display==\"list\"`. When `merge==True`, the sememe lists of all the senses retrieved by the word will be merged into one. `expanded_layer` is set to control the expanded layer num of the sememe tree and by default it will be set to -1(expanded all layers)."
   ]
  },
  {
   "cell_type": "code",
   "execution_count": null,
   "metadata": {},
   "outputs": [],
   "source": [
    "# Expand all layers and merge all the sememe list into one\n",
    "hownet_dict.get_sememes_by_word(word = '苹果', display='list', merge=True, expanded_layer=-1, K=None)"
   ]
  },
  {
   "cell_type": "code",
   "execution_count": null,
   "metadata": {},
   "outputs": [],
   "source": [
    "# Expand the top2 layers and merge all the sememe list into one. Note that the first layer is the sense node. \n",
    "hownet_dict.get_sememes_by_word(word = '苹果', display='list', merge=True, expanded_layer=2, K=None)"
   ]
  },
  {
   "cell_type": "markdown",
   "metadata": {},
   "source": [
    "### Get sememes via relations between sememes\n",
    "\n",
    "There are various relations between sememes as follows. The package provides api to retrieve related sememes.\n",
    "You can retrieve the relation between two sememes by the annotation of the sememe."
   ]
  },
  {
   "cell_type": "code",
   "execution_count": null,
   "metadata": {},
   "outputs": [],
   "source": [
    "all_sememe_relations = hownet_dict.get_all_sememe_relations()\n",
    "print(all_sememe_relations)\n",
    "# Get the relation between sememes. Please pay attention to the order of the sememes.\n",
    "relations = hownet_dict.get_sememe_relation('FormValue','圆', return_triples=False)\n",
    "print(relations)\n",
    "# You can get the triples in the form of (head_sememe, relation, tail_relation)\n",
    "triples = hownet_dict.get_sememe_relation('FormValue','圆', return_triples=True)\n",
    "print(triples)"
   ]
  },
  {
   "cell_type": "markdown",
   "metadata": {},
   "source": [
    "If you want sememes that have the exact relation with some sememe, you can do as below. Note that you can also get triples."
   ]
  },
  {
   "cell_type": "code",
   "execution_count": null,
   "metadata": {},
   "outputs": [],
   "source": [
    "triples = hownet_dict.get_related_sememes('FormValue', relation='hyponym',return_triples=True)\n",
    "print(triples)"
   ]
  },
  {
   "cell_type": "markdown",
   "metadata": {},
   "source": [
    "Besides, you can get related sememes directly by the sememe instance."
   ]
  },
  {
   "cell_type": "code",
   "execution_count": null,
   "metadata": {},
   "outputs": [],
   "source": [
    "print(\"Take {} as example.\".format(sememe1[0]))\n",
    "print(\"The sememes that have the relaiton of hyponym with the sememe are:\")\n",
    "print(sememe1[0].get_related_sememes(relation='hyponym'))"
   ]
  },
  {
   "cell_type": "markdown",
   "metadata": {},
   "source": [
    "Moreover, you can get all the sememes that have relation with the exact sememe (ignore the order)."
   ]
  },
  {
   "cell_type": "code",
   "execution_count": null,
   "metadata": {},
   "outputs": [],
   "source": [
    "print(\"The sememes that have relaiton with the sememe {} are:\".format(sememe1[0]))\n",
    "print(sememe1[0].get_related_sememes())"
   ]
  },
  {
   "cell_type": "markdown",
   "metadata": {},
   "source": [
    "## Advanced Feature #1: Word Similarity Calculation via Sememes\n",
    "\n",
    "The following parts are mainly implemented by Jun Yan and integrated by Chenghao Yang. Our implementation is based on the paper:\n",
    "> Jiangming Liu, Jinan Xu, Yujie Zhang. An Approach of Hybrid Hierarchical Structure for Word Similarity Computing by HowNet. In Proceedings of IJCNLP\n",
    "\n",
    "### Extra initializaiton\n",
    "Because there are some files required to be loaded for similarity calculation. The initialization overhead will be larger than before. To begin with, you can initialize the hownet_dict object as the following code :"
   ]
  },
  {
   "cell_type": "code",
   "execution_count": null,
   "metadata": {},
   "outputs": [],
   "source": [
    "hownet_dict_anvanced = OpenHowNet.HowNetDict(init_sim=True)"
   ]
  },
  {
   "cell_type": "markdown",
   "metadata": {},
   "source": [
    "You can also postpone the initialization work of similarity calculation until use. The following code serves as an example."
   ]
  },
  {
   "cell_type": "code",
   "execution_count": null,
   "metadata": {},
   "outputs": [],
   "source": [
    "hownet_dict.initialize_similarity_calculation()"
   ]
  },
  {
   "cell_type": "markdown",
   "metadata": {},
   "source": [
    "### Get senses that have the same sememe list\n",
    "You can retrieve the senses that have the same sememe list with the exact sense. Note that the structured information is ignored."
   ]
  },
  {
   "cell_type": "code",
   "execution_count": null,
   "metadata": {},
   "outputs": [],
   "source": [
    "print(\"Take sense {} as an example. Its sememes contains: \".format(sense_example))\n",
    "print(sense_example.get_sememe_list())\n",
    "print(\"Senses that have the same sememe list contains: \")\n",
    "print(hownet_dict_anvanced.get_sense_synonyms(sense_example)[:10])"
   ]
  },
  {
   "cell_type": "markdown",
   "metadata": {},
   "source": [
    "### Get top-K nearest words of the given word\n",
    "Given an exact word, the function will return the Top-K nearest words in HowNet.\n",
    "First of all, the HowNetDict will match the senses in HowNet by the word and give the nearest words separately.\n",
    "Note that you must set the language of the words, and the calculation may takes a long time."
   ]
  },
  {
   "cell_type": "code",
   "execution_count": null,
   "metadata": {},
   "outputs": [],
   "source": [
    "hownet_dict_anvanced.get_nearest_words('苹果', language='zh',K=5)"
   ]
  },
  {
   "cell_type": "markdown",
   "metadata": {},
   "source": [
    "You can get the similarity score as below:"
   ]
  },
  {
   "cell_type": "code",
   "execution_count": null,
   "metadata": {},
   "outputs": [],
   "source": [
    "hownet_dict_anvanced.get_nearest_words('苹果', language='zh',K=5,score=True)"
   ]
  },
  {
   "cell_type": "markdown",
   "metadata": {},
   "source": [
    "By setting the `merge` to True, you can merge the words list of senses into one and get the Top-K words."
   ]
  },
  {
   "cell_type": "code",
   "execution_count": null,
   "metadata": {},
   "outputs": [],
   "source": [
    "hownet_dict_anvanced.get_nearest_words('苹果', language='zh',K=5, merge=True)"
   ]
  },
  {
   "cell_type": "markdown",
   "metadata": {},
   "source": [
    "Detailed explanation of params will be displayed in our documentation.\n",
    "\n",
    "### Calculate the similarity between two given words¶\n",
    "If any of the given words does not exist in HowNet annotations, this function will return -1."
   ]
  },
  {
   "cell_type": "code",
   "execution_count": null,
   "metadata": {},
   "outputs": [],
   "source": [
    "print('The similarity of 苹果 and 梨 is {}.'.format(hownet_dict_anvanced.calculate_word_similarity('苹果','梨')))"
   ]
  },
  {
   "cell_type": "markdown",
   "metadata": {},
   "source": [
    "## Advanced Feature #2: BabelNet Synset Search\n",
    "\n",
    "### Extra initializaiton\n",
    "Because there are more files required to be loaded for BabelNet dict. The initialization overhead will be larger than before. You can initialize the hownet_dict object as the following code :"
   ]
  },
  {
   "cell_type": "code",
   "execution_count": null,
   "metadata": {},
   "outputs": [],
   "source": [
    "hownet_dict_anvanced = OpenHowNet.HowNetDict(init_babel=True)"
   ]
  },
  {
   "cell_type": "markdown",
   "metadata": {},
   "source": [
    "Or you can use the following API to initialize the BabelNet dict."
   ]
  },
  {
   "cell_type": "code",
   "execution_count": null,
   "metadata": {},
   "outputs": [],
   "source": [
    "hownet_dict.initialize_babelnet_dict()"
   ]
  },
  {
   "cell_type": "markdown",
   "metadata": {},
   "source": [
    "You can retrieve a synset instance and get the abundant information in it using the follow APIs."
   ]
  },
  {
   "cell_type": "code",
   "execution_count": null,
   "metadata": {},
   "outputs": [],
   "source": [
    "syn_list = hownet_dict_anvanced.get_synset('黄色')\n",
    "print(\"{} results are retrieved and take the first one as an example\".format(len(syn_list)))\n",
    "syn_example = syn_list[0]\n",
    "print(\"Synset: {}\".format(syn_example))\n",
    "print(\"English synonyms: {}\".format(syn_example.en_synonyms))\n",
    "print(\"Chinese synonyms: {}\".format(syn_example.zh_synonyms))\n",
    "print(\"English glosses: {}\".format(syn_example.en_glosses))\n",
    "print(\"Chinese glosses: {}\".format(syn_example.zh_glosses))"
   ]
  },
  {
   "cell_type": "markdown",
   "metadata": {},
   "source": [
    "You can also get all the synsets and relations between synsets:"
   ]
  },
  {
   "cell_type": "code",
   "execution_count": null,
   "metadata": {},
   "outputs": [],
   "source": [
    "all_synsets = hownet_dict_anvanced.get_all_babel_synsets()\n",
    "all_synset_relation = hownet_dict_anvanced.get_all_synset_relations()\n",
    "print(\"There are {} synsets and {} relations\".format(len(all_synsets),len(all_synset_relation)))"
   ]
  },
  {
   "cell_type": "markdown",
   "metadata": {},
   "source": [
    "Also, you can search for the synsets that have the exact relation with the synset."
   ]
  },
  {
   "cell_type": "code",
   "execution_count": null,
   "metadata": {},
   "outputs": [],
   "source": [
    "related_synsets = syn_example.get_related_synsets()\n",
    "print(\"There are {} synsets that have relation with the {}, they are: \".format(len(related_synsets), syn_example))\n",
    "print(related_synsets[:10])"
   ]
  },
  {
   "cell_type": "markdown",
   "metadata": {},
   "source": [
    "The package also provides search for the sememe list by the BabelNet sememe annotations.\n",
    "The API is similar with the HowNet APIs."
   ]
  },
  {
   "cell_type": "code",
   "execution_count": null,
   "metadata": {},
   "outputs": [],
   "source": [
    "print(hownet_dict_anvanced.get_sememes_by_word_in_BabelNet('黄色'))\n",
    "print(hownet_dict_anvanced.get_sememes_by_word_in_BabelNet('黄色',merge=True))"
   ]
  }
 ],
 "metadata": {
  "interpreter": {
   "hash": "aee8b7b246df8f9039afb4144a1f6fd8d2ca17a180786b69acc140d282b71a49"
  },
  "kernelspec": {
   "display_name": "Python 3",
   "language": "python",
   "name": "python3"
  },
  "language_info": {
   "codemirror_mode": {
    "name": "ipython",
    "version": 3
   },
   "file_extension": ".py",
   "mimetype": "text/x-python",
   "name": "python",
   "nbconvert_exporter": "python",
   "pygments_lexer": "ipython3",
   "version": "3.7.6"
  }
 },
 "nbformat": 4,
 "nbformat_minor": 2
}
